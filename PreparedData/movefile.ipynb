{
 "cells": [
  {
   "cell_type": "code",
   "execution_count": 11,
   "id": "fdd7194f",
   "metadata": {},
   "outputs": [],
   "source": [
    "import os\n",
    "import shutil\n",
    "path= R\"D:\\wuxi\\post_dicom\\AEdata\\HeadMotion\"\n",
    "newpath=R\"D:\\wuxi\\post_dicom\\AEdata\\HeadMotion\"\n",
    "filelist = os.listdir(path)\n",
    "for file in filelist:\n",
    "    subpath=os.path.join(path,file)\n",
    "    sublist=os.listdir(subpath)\n",
    "    for motionfile in sublist:\n",
    "        if \"rp\" in motionfile :\n",
    "            rppath=os.path.join(subpath,motionfile)\n",
    "            shutil.move(rppath,newpath)\n"
   ]
  },
  {
   "cell_type": "code",
   "execution_count": 17,
   "id": "f8a846e4",
   "metadata": {},
   "outputs": [],
   "source": [
    "path= R\"D:\\wuxi\\pre_dicom\\tDCSdata\\HeadMotion\"\n",
    "newpath=R\"D:\\wuxi\\pre_dicom\\tDCSdata\\HeadMotion\\rp\"\n",
    "filelist = os.listdir(path)\n",
    "for file in filelist:\n",
    "    filepath=os.path.join(path,file)\n",
    "    if os.path.isfile(filepath):\n",
    "        shutil.move(filepath,newpath)"
   ]
  },
  {
   "cell_type": "code",
   "execution_count": null,
   "id": "1a3bb2f7",
   "metadata": {},
   "outputs": [],
   "source": []
  }
 ],
 "metadata": {
  "kernelspec": {
   "display_name": "Python 3 (ipykernel)",
   "language": "python",
   "name": "python3"
  },
  "language_info": {
   "codemirror_mode": {
    "name": "ipython",
    "version": 3
   },
   "file_extension": ".py",
   "mimetype": "text/x-python",
   "name": "python",
   "nbconvert_exporter": "python",
   "pygments_lexer": "ipython3",
   "version": "3.9.12"
  }
 },
 "nbformat": 4,
 "nbformat_minor": 5
}
