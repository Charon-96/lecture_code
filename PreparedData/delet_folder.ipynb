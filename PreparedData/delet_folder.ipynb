{
 "cells": [
  {
   "cell_type": "code",
   "execution_count": 28,
   "id": "aa42a45b",
   "metadata": {},
   "outputs": [],
   "source": [
    "import os\n",
    "import shutil\n",
    "def move_to_root_folder(root_path, cur_path):\n",
    "\n",
    "    for filename in os.listdir(cur_path):\n",
    "\n",
    "        if os.path.isfile(os.path.join(cur_path, filename)):\n",
    "\n",
    "            shutil.move(os.path.join(cur_path, filename), os.path.join(root_path, filename))\n",
    "\n",
    "    \n",
    "path=R\"D:\\wuxi\\test\"\n",
    "files=os.listdir(path)\n",
    "\n",
    "for sub in files:    \n",
    "    \n",
    "    sub_path=os.path.join(path, sub)\n",
    "    seqs=os.listdir(sub_path)\n",
    "    for s in seqs:\n",
    "        if os.path.isfile(os.path.join(sub_path,s)):\n",
    "            break\n",
    "        elif os.path.isdir(os.path.join(sub_path,s)):\n",
    "            root_path=os.path.join(sub_path,s)\n",
    "            filename=os.listdir(root_path)\n",
    "            for file in filename:\n",
    "                if os.path.isfile(os.path.join(root_path,file)):\n",
    "                    break\n",
    "                cur_path = os.path.join(root_path,file)\n",
    "                move_to_root_folder(root_path, cur_path)\n",
    "                os.rmdir(cur_path)\n",
    "\n"
   ]
  },
  {
   "cell_type": "code",
   "execution_count": null,
   "id": "0b5222d0",
   "metadata": {},
   "outputs": [],
   "source": []
  }
 ],
 "metadata": {
  "kernelspec": {
   "display_name": "Python 3 (ipykernel)",
   "language": "python",
   "name": "python3"
  },
  "language_info": {
   "codemirror_mode": {
    "name": "ipython",
    "version": 3
   },
   "file_extension": ".py",
   "mimetype": "text/x-python",
   "name": "python",
   "nbconvert_exporter": "python",
   "pygments_lexer": "ipython3",
   "version": "3.9.12"
  }
 },
 "nbformat": 4,
 "nbformat_minor": 5
}
