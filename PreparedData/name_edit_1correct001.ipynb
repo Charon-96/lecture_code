{
 "cells": [
  {
   "cell_type": "code",
   "execution_count": 36,
   "id": "2cd85a01",
   "metadata": {},
   "outputs": [],
   "source": [
    "import os"
   ]
  },
  {
   "cell_type": "code",
   "execution_count": 37,
   "id": "b184fc28",
   "metadata": {},
   "outputs": [],
   "source": [
    "import xlrd"
   ]
  },
  {
   "cell_type": "code",
   "execution_count": 38,
   "id": "cda492c7",
   "metadata": {},
   "outputs": [],
   "source": [
    "count = 75"
   ]
  },
  {
   "cell_type": "code",
   "execution_count": 66,
   "id": "1ed43c5b",
   "metadata": {},
   "outputs": [],
   "source": [
    "\n",
    "path= R\"D:\\wuxi\\pre_dicom\\MIXdata\\Results\\VMHC_FunImgARCWFsymS\"\n",
    "expath = R\"D:\\wuxi\\sub.xls\""
   ]
  },
  {
   "cell_type": "code",
   "execution_count": 67,
   "id": "7408dd8f",
   "metadata": {},
   "outputs": [],
   "source": [
    "x1=xlrd.open_workbook(expath)\n",
    "sheet1=x1.sheet_by_name(\"Sheet1\")\n",
    "rpnum=[' ','sub1_','sub2_','sub3_','sub4_','sub5_','sub6_','sub7_','sub8_','sub9_','sub10_','sub11_','sub12_','sub13_','sub14_','sub15_','sub16_','sub17_','sub18_','sub19_',]\n",
    "resultsnum=[' ','sub1.nii','sub2.nii','sub3.nii','sub4.nii','sub5.nii','sub6.nii','sub7.nii','sub8.nii','sub9.nii','sub10.nii','sub11.nii','sub12.nii','sub13.nii','sub14.nii','sub15.nii','sub16.nii','sub17.nii','sub18.nii','sub19.nii',]\n"
   ]
  },
  {
   "cell_type": "code",
   "execution_count": 68,
   "id": "44f76cf0",
   "metadata": {},
   "outputs": [],
   "source": [
    "idlist=sheet1.col_values(0)"
   ]
  },
  {
   "cell_type": "code",
   "execution_count": 69,
   "id": "80988660",
   "metadata": {},
   "outputs": [
    {
     "data": {
      "text/plain": [
       "['zVMHCMap_sub1.nii',\n",
       " 'zVMHCMap_sub10.nii',\n",
       " 'zVMHCMap_sub11.nii',\n",
       " 'zVMHCMap_sub12.nii',\n",
       " 'zVMHCMap_sub13.nii',\n",
       " 'zVMHCMap_sub14.nii',\n",
       " 'zVMHCMap_sub15.nii',\n",
       " 'zVMHCMap_sub16.nii',\n",
       " 'zVMHCMap_sub17.nii',\n",
       " 'zVMHCMap_sub18.nii',\n",
       " 'zVMHCMap_sub19.nii',\n",
       " 'zVMHCMap_sub2.nii',\n",
       " 'zVMHCMap_sub3.nii',\n",
       " 'zVMHCMap_sub4.nii',\n",
       " 'zVMHCMap_sub5.nii',\n",
       " 'zVMHCMap_sub6.nii',\n",
       " 'zVMHCMap_sub7.nii',\n",
       " 'zVMHCMap_sub8.nii',\n",
       " 'zVMHCMap_sub9.nii']"
      ]
     },
     "execution_count": 69,
     "metadata": {},
     "output_type": "execute_result"
    }
   ],
   "source": [
    "filelist = os.listdir(path)\n",
    "filelist\n"
   ]
  },
  {
   "cell_type": "code",
   "execution_count": 54,
   "id": "92e8917d",
   "metadata": {},
   "outputs": [
    {
     "name": "stdout",
     "output_type": "stream",
     "text": [
      "rp_asub10_ep2d_bold_REST_20211118141359_12.txt\n",
      "rp_asub010_ep2d_bold_REST_20211118141359_12.txt\n",
      "rp_asub11_ep2d_bold_REST_20211105140221_13.txt\n",
      "rp_asub011_ep2d_bold_REST_20211105140221_13.txt\n",
      "rp_asub12_ABI1_bold_rest_20220624133953_5.txt\n",
      "rp_asub012_ABI1_bold_rest_20220624133953_5.txt\n",
      "rp_asub13_ABI1_bold_rest_20220814132328_5.txt\n",
      "rp_asub013_ABI1_bold_rest_20220814132328_5.txt\n",
      "rp_asub14_ABI1_bold_rest_20220623132639_5.txt\n",
      "rp_asub014_ABI1_bold_rest_20220623132639_5.txt\n",
      "rp_asub15_ABI1_bold_rest_20220731144936_5.txt\n",
      "rp_asub015_ABI1_bold_rest_20220731144936_5.txt\n",
      "rp_asub16_ABI1_bold_rest_20211118131739_6.txt\n",
      "rp_asub016_ABI1_bold_rest_20211118131739_6.txt\n",
      "rp_asub17_ABI1_bold_rest_20211225142245_5.txt\n",
      "rp_asub017_ABI1_bold_rest_20211225142245_5.txt\n",
      "rp_asub18_ABI1_bold_rest_20220807132616_5.txt\n",
      "rp_asub018_ABI1_bold_rest_20220807132616_5.txt\n",
      "rp_asub19_ABI1_bold_rest_20220620094033_5.txt\n",
      "rp_asub019_ABI1_bold_rest_20220620094033_5.txt\n",
      "rp_asub1_ABI1_bold_rest_20211228141855_5.txt\n",
      "rp_asub001_ABI1_bold_rest_20211228141855_5.txt\n",
      "rp_asub2_ABI1_bold_rest_20211223141853_5.txt\n",
      "rp_asub002_ABI1_bold_rest_20211223141853_5.txt\n",
      "rp_asub3_ABI1_bold_rest_20220924090119_5.txt\n",
      "rp_asub003_ABI1_bold_rest_20220924090119_5.txt\n",
      "rp_asub4_ABI1_bold_rest_20220908165006_5.txt\n",
      "rp_asub004_ABI1_bold_rest_20220908165006_5.txt\n",
      "rp_asub5_ABI1_bold_rest_20211116133847_6.txt\n",
      "rp_asub005_ABI1_bold_rest_20211116133847_6.txt\n",
      "rp_asub6_ABI1_bold_rest_20220824090000_5.txt\n",
      "rp_asub006_ABI1_bold_rest_20220824090000_5.txt\n",
      "rp_asub7_ABI1_bold_rest_20220803082736_5.txt\n",
      "rp_asub007_ABI1_bold_rest_20220803082736_5.txt\n",
      "rp_asub8_ABI1_bold_rest_20211223091814_5.txt\n",
      "rp_asub008_ABI1_bold_rest_20211223091814_5.txt\n",
      "rp_asub9_ABI1_bold_rest_20220624142925_5.txt\n",
      "rp_asub009_ABI1_bold_rest_20220624142925_5.txt\n"
     ]
    }
   ],
   "source": [
    "#rp_namecorrected\n",
    "for files in filelist:\n",
    "    print(files)\n",
    "    for strs in rpnum:\n",
    "        if strs in files:\n",
    "            n=rpnum.index(strs)\n",
    "            newname=\"sub\"+str(idlist[n])+\"_\"\n",
    "            newnamefiles=files.replace(strs,newname)\n",
    "            print(newnamefiles)\n",
    "            olddir=os.path.join(path,files)\n",
    "            os.renames(olddir,os.path.join(path,newnamefiles));\n",
    "\n",
    "        "
   ]
  },
  {
   "cell_type": "code",
   "execution_count": 70,
   "id": "d62d26bc",
   "metadata": {},
   "outputs": [
    {
     "name": "stdout",
     "output_type": "stream",
     "text": [
      "zVMHCMap_sub1.nii\n",
      "zVMHCMap_sub001.nii\n",
      "zVMHCMap_sub10.nii\n",
      "zVMHCMap_sub010.nii\n",
      "zVMHCMap_sub11.nii\n",
      "zVMHCMap_sub011.nii\n",
      "zVMHCMap_sub12.nii\n",
      "zVMHCMap_sub012.nii\n",
      "zVMHCMap_sub13.nii\n",
      "zVMHCMap_sub013.nii\n",
      "zVMHCMap_sub14.nii\n",
      "zVMHCMap_sub014.nii\n",
      "zVMHCMap_sub15.nii\n",
      "zVMHCMap_sub015.nii\n",
      "zVMHCMap_sub16.nii\n",
      "zVMHCMap_sub016.nii\n",
      "zVMHCMap_sub17.nii\n",
      "zVMHCMap_sub017.nii\n",
      "zVMHCMap_sub18.nii\n",
      "zVMHCMap_sub018.nii\n",
      "zVMHCMap_sub19.nii\n",
      "zVMHCMap_sub019.nii\n",
      "zVMHCMap_sub2.nii\n",
      "zVMHCMap_sub002.nii\n",
      "zVMHCMap_sub3.nii\n",
      "zVMHCMap_sub003.nii\n",
      "zVMHCMap_sub4.nii\n",
      "zVMHCMap_sub004.nii\n",
      "zVMHCMap_sub5.nii\n",
      "zVMHCMap_sub005.nii\n",
      "zVMHCMap_sub6.nii\n",
      "zVMHCMap_sub006.nii\n",
      "zVMHCMap_sub7.nii\n",
      "zVMHCMap_sub007.nii\n",
      "zVMHCMap_sub8.nii\n",
      "zVMHCMap_sub008.nii\n",
      "zVMHCMap_sub9.nii\n",
      "zVMHCMap_sub009.nii\n"
     ]
    }
   ],
   "source": [
    "#results_namecorrected\n",
    "for files in filelist:\n",
    "    print(files)\n",
    "    for strs in resultsnum:\n",
    "        if strs in files:\n",
    "            n=resultsnum.index(strs)\n",
    "            newname=\"sub\"+str(idlist[n])+\".nii\"\n",
    "            newnamefiles=files.replace(strs,newname)\n",
    "            print(newnamefiles)\n",
    "            olddir=os.path.join(path,files)\n",
    "            os.renames(olddir,os.path.join(path,newnamefiles));"
   ]
  },
  {
   "cell_type": "code",
   "execution_count": 45,
   "id": "991c5e88",
   "metadata": {},
   "outputs": [
    {
     "data": {
      "text/plain": [
       "str"
      ]
     },
     "execution_count": 45,
     "metadata": {},
     "output_type": "execute_result"
    }
   ],
   "source": [
    "type(newname)"
   ]
  },
  {
   "cell_type": "code",
   "execution_count": null,
   "id": "1f3399cd",
   "metadata": {},
   "outputs": [],
   "source": []
  },
  {
   "cell_type": "code",
   "execution_count": null,
   "id": "1333bca8",
   "metadata": {},
   "outputs": [],
   "source": []
  }
 ],
 "metadata": {
  "kernelspec": {
   "display_name": "Python 3 (ipykernel)",
   "language": "python",
   "name": "python3"
  },
  "language_info": {
   "codemirror_mode": {
    "name": "ipython",
    "version": 3
   },
   "file_extension": ".py",
   "mimetype": "text/x-python",
   "name": "python",
   "nbconvert_exporter": "python",
   "pygments_lexer": "ipython3",
   "version": "3.9.12"
  }
 },
 "nbformat": 4,
 "nbformat_minor": 5
}
